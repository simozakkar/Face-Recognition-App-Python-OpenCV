{
 "cells": [
  {
   "cell_type": "markdown",
   "id": "normal-monthly",
   "metadata": {},
   "source": [
    "# M2I EZ-ZAKKAR MOHAMMED"
   ]
  },
  {
   "cell_type": "markdown",
   "id": "structural-brand",
   "metadata": {},
   "source": [
    "# Script pour la reconnaisance faciale :"
   ]
  },
  {
   "cell_type": "markdown",
   "id": "fantastic-escape",
   "metadata": {},
   "source": [
    "<p>Le script suivant permet de reconnaitre le visage de n'import quelle personne à partir de s'image.<br>\n",
    "Dans les parties suivantes on va expliquer en détails le fonctionment de ce script.</p><br>\n",
    "<ul>\n",
    "<li>Étape 1 : Les recommandations des bibliothèques</li>\n",
    "<li>Étape 2 : Entrainement</li>\n",
    "<li>Étape 3 : Test</li>\n",
    "</ul>"
   ]
  },
  {
   "cell_type": "markdown",
   "id": "selective-dispatch",
   "metadata": {},
   "source": [
    "## Étape 1 : Les recommandations des bibliothèques"
   ]
  },
  {
   "cell_type": "code",
   "execution_count": 1,
   "id": "happy-capital",
   "metadata": {},
   "outputs": [],
   "source": [
    "import cv2\n",
    "import face_recognition\n",
    "import tkinter as tk\n",
    "from tkinter import filedialog\n",
    "from PIL import Image, ImageTk\n",
    "import numpy as np\n",
    "\n",
    "# PLEASE NOTE: This example requires OpenCV (the `cv2` library) to be installed only to read from your webcam.\n",
    "# OpenCV is *not* required to use the face_recognition library. It's only required if you want to run this\n",
    "\n",
    "\n",
    "# Initialize some variables\n",
    "known_face_encodings = []\n",
    "known_face_names = []"
   ]
  },
  {
   "cell_type": "markdown",
   "id": "growing-mileage",
   "metadata": {},
   "source": [
    "## Étape 2 : Entrainement (Training) "
   ]
  },
  {
   "cell_type": "code",
   "execution_count": 2,
   "id": "toxic-constraint",
   "metadata": {},
   "outputs": [],
   "source": [
    "# Training function\n",
    "def Training(image):\n",
    "    \n",
    "    small_frame = cv2.resize(image, (0, 0), fx=0.25, fy=0.25)\n",
    "\n",
    "    # Convert the image from BGR color (which OpenCV uses) to RGB color (which face_recognition uses)\n",
    "    rgb_small_frame = small_frame[:, :, ::-1]\n",
    "    # Find all the faces and face encodings in the current frame of video\n",
    "    face_locations = face_recognition.face_locations(rgb_small_frame)\n",
    "    face_encodings = face_recognition.face_encodings(rgb_small_frame, face_locations)\n",
    "\n",
    "    face_names = []\n",
    "    for face_encoding in face_encodings:\n",
    "        # See if the face is a match for the known face(s)\n",
    "        matches = face_recognition.compare_faces(known_face_encodings, face_encoding)\n",
    "        name = \"Unknown\"\n",
    "\n",
    "        # If a match was found in known_face_encodings, just use the first one.\n",
    "        if True in matches:\n",
    "            first_match_index = matches.index(True)\n",
    "            name = known_face_names[first_match_index]\n",
    "        face_names.append(name)\n",
    "\n",
    "        \n",
    "    nbr_face = 0\n",
    "    # Display the results\n",
    "    for (top, right, bottom, left), name in zip(face_locations, face_names):\n",
    "        nbr_face += 1\n",
    "        # Scale back up face locations since the frame we detected in was scaled to 1/4 size\n",
    "        top *= 4\n",
    "        right *= 4\n",
    "        bottom *= 4\n",
    "        left *= 4\n",
    "\n",
    "        img = image[top:bottom, left:right]\n",
    "\n",
    "        img = Image.fromarray(np.uint8(img)).convert('RGB')\n",
    "        \n",
    "        #img = img.resize((200,200))\n",
    "\n",
    "        root = tk.Tk()\n",
    "        # set the title\n",
    "        nameDialog = \"Image : \"+str(nbr_face)\n",
    "        root.title(nameDialog)\n",
    "        # set the image\n",
    "        img = ImageTk.PhotoImage(img)\n",
    "        \n",
    "        imageL = tk.Label(root, image=img)\n",
    "        imageL.pack()\n",
    "        \n",
    "        label = tk.Label(root, text=\"Name\")\n",
    "        label.pack(side=tk.TOP, padx=5, pady=5)\n",
    "        # set the Entry\n",
    "        entry = tk.Entry(root)\n",
    "        entry.pack(side=tk.TOP, padx=5, pady=5)\n",
    "        entry.insert(0,face_names[nbr_face-1])\n",
    "        \n",
    "        buttonCancel = tk.Button(root, text='Cancel',\n",
    "           command=root.quit)\n",
    "        buttonCancel.pack(side=tk.LEFT, padx=5, pady=5)\n",
    "        buttonAdd = tk.Button(root, text='  Add  ',\n",
    "           command=(lambda r=root : addFace(r, entry.get(), face_encodings[nbr_face-1])))\n",
    "        buttonAdd.pack(side=tk.LEFT, padx=5, pady=5)\n",
    "        \n",
    "        # display GUI\n",
    "        root.mainloop()\n",
    "        try :\n",
    "            root.destroy()\n",
    "        except:\n",
    "            # nothing\n",
    "            root.quit()\n",
    "    \n",
    "    # return nbr of the faces in the image\n",
    "    return nbr_face\n",
    "\n",
    "# add encoding face and name\n",
    "def addFace(root, name, face_enc):\n",
    "    if name == \"\":\n",
    "        name = \"Unknown\"\n",
    "    known_face_encodings.append(face_enc)\n",
    "    known_face_names.append(name)\n",
    "    root.quit()\n",
    "    return 0 "
   ]
  },
  {
   "cell_type": "markdown",
   "id": "binding-wrong",
   "metadata": {},
   "source": [
    "Entrainer le script à partir des images locales."
   ]
  },
  {
   "cell_type": "code",
   "execution_count": 3,
   "id": "worldwide-dressing",
   "metadata": {},
   "outputs": [],
   "source": [
    "def trainingWithImage():\n",
    "    root = tk.Tk()\n",
    "    root.withdraw()\n",
    "    # Load picture\n",
    "    file_path = filedialog.askopenfilename()\n",
    "    root.quit    # stops mainloop\n",
    "    root.destroy()  # this is necessary on Windows to prevent\n",
    "    if file_path:\n",
    "        \n",
    "        image = face_recognition.load_image_file(file_path)\n",
    "        \n",
    "        # call Training function\n",
    "        nbr = Training(image)\n",
    "        print(nbr, \"faces found in the selected image\")\n",
    "    "
   ]
  },
  {
   "cell_type": "code",
   "execution_count": 4,
   "id": "modular-single",
   "metadata": {
    "scrolled": true
   },
   "outputs": [],
   "source": [
    "# Call trainingWithImage function\n",
    "trainingWithImage()"
   ]
  },
  {
   "cell_type": "markdown",
   "id": "embedded-roman",
   "metadata": {},
   "source": [
    "Entrainer le script à partir des photos prises avec la webcam."
   ]
  },
  {
   "cell_type": "code",
   "execution_count": 4,
   "id": "streaming-balance",
   "metadata": {},
   "outputs": [],
   "source": [
    "def trainingWithWebcam():\n",
    "    # Get a reference to webcam #0 (the default one)\n",
    "    video_capture = cv2.VideoCapture(0)\n",
    "    try :\n",
    "        while True:\n",
    "\n",
    "            ret, frame = video_capture.read()\n",
    "\n",
    "            # Display the resulting image\n",
    "            cv2.imshow('Video', frame)\n",
    "            # Hit 'q' on the keyboard to quit! Or Hit 'p' to take photo\n",
    "            key = cv2.waitKey(1)\n",
    "            if key == ord('q'): # Hit 'q' on the keyboard to quit!\n",
    "                cv2.destroyAllWindows()\n",
    "                #return\n",
    "            if key == ord('p'): # Hit 'p' on the keyboard to take photo!\n",
    "                cv2.destroyAllWindows()\n",
    "                # call Training function\n",
    "                nbr = Training(frame)\n",
    "                print(nbr, \"faces found in the selected image\")\n",
    "                break\n",
    "    except:\n",
    "        video_capture.release()\n",
    "                   \n",
    "    # Release handle to the webcam\n",
    "    video_capture.release()\n"
   ]
  },
  {
   "cell_type": "code",
   "execution_count": 6,
   "id": "saved-distribution",
   "metadata": {},
   "outputs": [
    {
     "name": "stdout",
     "output_type": "stream",
     "text": [
      "1 faces found in the selected image\n"
     ]
    }
   ],
   "source": [
    "# Call trainingWithWebca function\n",
    "trainingWithWebcam()"
   ]
  },
  {
   "cell_type": "markdown",
   "id": "sacred-print",
   "metadata": {},
   "source": [
    "## Étape 3 : Test"
   ]
  },
  {
   "cell_type": "markdown",
   "id": "suspended-declaration",
   "metadata": {},
   "source": [
    "Dans cette partie nous essayons de tester le script en utilisant la webcam."
   ]
  },
  {
   "cell_type": "code",
   "execution_count": 7,
   "id": "beautiful-floor",
   "metadata": {
    "scrolled": true
   },
   "outputs": [],
   "source": [
    "# This is a demo of running face recognition on live video from your webcam. It's a little more complicated than the\n",
    "# other example, but it includes some basic performance tweaks to make things run a lot faster:\n",
    "#   1. Process each video frame at 1/4 resolution (though still display it at full resolution)\n",
    "#   2. Only detect faces in every other frame of video.\n",
    "\n",
    "\n",
    "# Define Test function\n",
    "def Test():\n",
    "    \n",
    "    # Get a reference to webcam #0 (the default one)\n",
    "    video_capture = cv2.VideoCapture(0)\n",
    "    \n",
    "    process_this_frame = True\n",
    "    while True:\n",
    "        # Grab a single frame of video\n",
    "        ret, frame = video_capture.read()\n",
    "\n",
    "        # Resize frame of video to 1/4 size for faster face recognition processing\n",
    "        small_frame = cv2.resize(frame, (0, 0), fx=0.25, fy=0.25)\n",
    "\n",
    "        # Convert the image from BGR color (which OpenCV uses) to RGB color (which face_recognition uses)\n",
    "        rgb_small_frame = small_frame[:, :, ::-1]\n",
    "\n",
    "        # Only process every other frame of video to save time\n",
    "        if process_this_frame:\n",
    "            # Find all the faces and face encodings in the current frame of video\n",
    "            face_locations = face_recognition.face_locations(rgb_small_frame)\n",
    "            face_encodings = face_recognition.face_encodings(rgb_small_frame, face_locations)\n",
    "\n",
    "            face_names = []\n",
    "            for face_encoding in face_encodings:\n",
    "                # See if the face is a match for the known face(s)\n",
    "                matches = face_recognition.compare_faces(known_face_encodings, face_encoding)\n",
    "                name = \"Unknown\"\n",
    "\n",
    "                # If a match was found in known_face_encodings, just use the first one.\n",
    "                if True in matches:\n",
    "                    first_match_index = matches.index(True)\n",
    "                    name = known_face_names[first_match_index]\n",
    "\n",
    "                face_names.append(name)\n",
    "\n",
    "        process_this_frame = not process_this_frame\n",
    "\n",
    "\n",
    "        # Display the results\n",
    "        for (top, right, bottom, left), name in zip(face_locations, face_names):\n",
    "            # Scale back up face locations since the frame we detected in was scaled to 1/4 size\n",
    "            top *= 4\n",
    "            right *= 4\n",
    "            bottom *= 4\n",
    "            left *= 4\n",
    "\n",
    "            \n",
    "            if name == \"Unknown\":\n",
    "                color = (0, 0, 255)\n",
    "            else : \n",
    "                color = (0, 255, 0)\n",
    "                \n",
    "            # Draw a box around the face\n",
    "            cv2.rectangle(frame, (left, top), (right, bottom), color, 2)\n",
    "\n",
    "            # Draw a label with a name below the face\n",
    "            cv2.rectangle(frame, (left, bottom - 35), (right, bottom), color, cv2.FILLED)\n",
    "            font = cv2.FONT_HERSHEY_DUPLEX\n",
    "            cv2.putText(frame, name, (left + 6, bottom - 6), font, 1.0, (255, 255, 255), 1)\n",
    "\n",
    "        # Display the resulting image\n",
    "        cv2.imshow('Video', frame)\n",
    "\n",
    "        # Hit 'q' on the keyboard to quit!\n",
    "        if cv2.waitKey(1) & 0xFF == ord('q'):\n",
    "            break\n",
    "\n",
    "    # Release handle to the webcam\n",
    "    video_capture.release()\n",
    "    cv2.destroyAllWindows()"
   ]
  },
  {
   "cell_type": "code",
   "execution_count": 8,
   "id": "matched-recorder",
   "metadata": {},
   "outputs": [],
   "source": [
    "# Call Test function\n",
    "Test()"
   ]
  }
 ],
 "metadata": {
  "kernelspec": {
   "display_name": "Python 3",
   "language": "python",
   "name": "python3"
  },
  "language_info": {
   "codemirror_mode": {
    "name": "ipython",
    "version": 3
   },
   "file_extension": ".py",
   "mimetype": "text/x-python",
   "name": "python",
   "nbconvert_exporter": "python",
   "pygments_lexer": "ipython3",
   "version": "3.8.10"
  }
 },
 "nbformat": 4,
 "nbformat_minor": 5
}
